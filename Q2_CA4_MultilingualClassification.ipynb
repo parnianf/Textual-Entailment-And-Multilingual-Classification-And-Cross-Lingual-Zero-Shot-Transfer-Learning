{
  "nbformat": 4,
  "nbformat_minor": 0,
  "metadata": {
    "colab": {
      "name": "Q2_CA4.ipynb",
      "provenance": [],
      "collapsed_sections": []
    },
    "kernelspec": {
      "name": "python3",
      "display_name": "Python 3"
    },
    "language_info": {
      "name": "python"
    },
    "accelerator": "GPU",
    "widgets": {
      "application/vnd.jupyter.widget-state+json": {
        "11655b077b6e4cf6a1f0cecd31391e5f": {
          "model_module": "@jupyter-widgets/controls",
          "model_name": "HBoxModel",
          "model_module_version": "1.5.0",
          "state": {
            "_dom_classes": [],
            "_model_module": "@jupyter-widgets/controls",
            "_model_module_version": "1.5.0",
            "_model_name": "HBoxModel",
            "_view_count": null,
            "_view_module": "@jupyter-widgets/controls",
            "_view_module_version": "1.5.0",
            "_view_name": "HBoxView",
            "box_style": "",
            "children": [
              "IPY_MODEL_7ec307d81013432ca1a82d60cf0b2744",
              "IPY_MODEL_5ec83a0fff6042b1b4a01bc7b9b6160e",
              "IPY_MODEL_f31ce958085c434fa4137fe74723f1aa"
            ],
            "layout": "IPY_MODEL_b4663571e1a84844840c3baf99fa2c2d"
          }
        },
        "7ec307d81013432ca1a82d60cf0b2744": {
          "model_module": "@jupyter-widgets/controls",
          "model_name": "HTMLModel",
          "model_module_version": "1.5.0",
          "state": {
            "_dom_classes": [],
            "_model_module": "@jupyter-widgets/controls",
            "_model_module_version": "1.5.0",
            "_model_name": "HTMLModel",
            "_view_count": null,
            "_view_module": "@jupyter-widgets/controls",
            "_view_module_version": "1.5.0",
            "_view_name": "HTMLView",
            "description": "",
            "description_tooltip": null,
            "layout": "IPY_MODEL_0dbadb4ed51a4bd08221e243daea0a31",
            "placeholder": "​",
            "style": "IPY_MODEL_ae565d9dcd0047fc96c81435373b99d6",
            "value": "Downloading: 100%"
          }
        },
        "5ec83a0fff6042b1b4a01bc7b9b6160e": {
          "model_module": "@jupyter-widgets/controls",
          "model_name": "FloatProgressModel",
          "model_module_version": "1.5.0",
          "state": {
            "_dom_classes": [],
            "_model_module": "@jupyter-widgets/controls",
            "_model_module_version": "1.5.0",
            "_model_name": "FloatProgressModel",
            "_view_count": null,
            "_view_module": "@jupyter-widgets/controls",
            "_view_module_version": "1.5.0",
            "_view_name": "ProgressView",
            "bar_style": "success",
            "description": "",
            "description_tooltip": null,
            "layout": "IPY_MODEL_a6cb64f41f094947aaf40740fee0e961",
            "max": 434,
            "min": 0,
            "orientation": "horizontal",
            "style": "IPY_MODEL_fc42f4af38b54fafb700cc290c2b4213",
            "value": 434
          }
        },
        "f31ce958085c434fa4137fe74723f1aa": {
          "model_module": "@jupyter-widgets/controls",
          "model_name": "HTMLModel",
          "model_module_version": "1.5.0",
          "state": {
            "_dom_classes": [],
            "_model_module": "@jupyter-widgets/controls",
            "_model_module_version": "1.5.0",
            "_model_name": "HTMLModel",
            "_view_count": null,
            "_view_module": "@jupyter-widgets/controls",
            "_view_module_version": "1.5.0",
            "_view_name": "HTMLView",
            "description": "",
            "description_tooltip": null,
            "layout": "IPY_MODEL_b8562573beb74223b6828bc00d4635fd",
            "placeholder": "​",
            "style": "IPY_MODEL_2430e48384844100807c0c109fd5c59c",
            "value": " 434/434 [00:00&lt;00:00, 13.1kB/s]"
          }
        },
        "b4663571e1a84844840c3baf99fa2c2d": {
          "model_module": "@jupyter-widgets/base",
          "model_name": "LayoutModel",
          "model_module_version": "1.2.0",
          "state": {
            "_model_module": "@jupyter-widgets/base",
            "_model_module_version": "1.2.0",
            "_model_name": "LayoutModel",
            "_view_count": null,
            "_view_module": "@jupyter-widgets/base",
            "_view_module_version": "1.2.0",
            "_view_name": "LayoutView",
            "align_content": null,
            "align_items": null,
            "align_self": null,
            "border": null,
            "bottom": null,
            "display": null,
            "flex": null,
            "flex_flow": null,
            "grid_area": null,
            "grid_auto_columns": null,
            "grid_auto_flow": null,
            "grid_auto_rows": null,
            "grid_column": null,
            "grid_gap": null,
            "grid_row": null,
            "grid_template_areas": null,
            "grid_template_columns": null,
            "grid_template_rows": null,
            "height": null,
            "justify_content": null,
            "justify_items": null,
            "left": null,
            "margin": null,
            "max_height": null,
            "max_width": null,
            "min_height": null,
            "min_width": null,
            "object_fit": null,
            "object_position": null,
            "order": null,
            "overflow": null,
            "overflow_x": null,
            "overflow_y": null,
            "padding": null,
            "right": null,
            "top": null,
            "visibility": null,
            "width": null
          }
        },
        "0dbadb4ed51a4bd08221e243daea0a31": {
          "model_module": "@jupyter-widgets/base",
          "model_name": "LayoutModel",
          "model_module_version": "1.2.0",
          "state": {
            "_model_module": "@jupyter-widgets/base",
            "_model_module_version": "1.2.0",
            "_model_name": "LayoutModel",
            "_view_count": null,
            "_view_module": "@jupyter-widgets/base",
            "_view_module_version": "1.2.0",
            "_view_name": "LayoutView",
            "align_content": null,
            "align_items": null,
            "align_self": null,
            "border": null,
            "bottom": null,
            "display": null,
            "flex": null,
            "flex_flow": null,
            "grid_area": null,
            "grid_auto_columns": null,
            "grid_auto_flow": null,
            "grid_auto_rows": null,
            "grid_column": null,
            "grid_gap": null,
            "grid_row": null,
            "grid_template_areas": null,
            "grid_template_columns": null,
            "grid_template_rows": null,
            "height": null,
            "justify_content": null,
            "justify_items": null,
            "left": null,
            "margin": null,
            "max_height": null,
            "max_width": null,
            "min_height": null,
            "min_width": null,
            "object_fit": null,
            "object_position": null,
            "order": null,
            "overflow": null,
            "overflow_x": null,
            "overflow_y": null,
            "padding": null,
            "right": null,
            "top": null,
            "visibility": null,
            "width": null
          }
        },
        "ae565d9dcd0047fc96c81435373b99d6": {
          "model_module": "@jupyter-widgets/controls",
          "model_name": "DescriptionStyleModel",
          "model_module_version": "1.5.0",
          "state": {
            "_model_module": "@jupyter-widgets/controls",
            "_model_module_version": "1.5.0",
            "_model_name": "DescriptionStyleModel",
            "_view_count": null,
            "_view_module": "@jupyter-widgets/base",
            "_view_module_version": "1.2.0",
            "_view_name": "StyleView",
            "description_width": ""
          }
        },
        "a6cb64f41f094947aaf40740fee0e961": {
          "model_module": "@jupyter-widgets/base",
          "model_name": "LayoutModel",
          "model_module_version": "1.2.0",
          "state": {
            "_model_module": "@jupyter-widgets/base",
            "_model_module_version": "1.2.0",
            "_model_name": "LayoutModel",
            "_view_count": null,
            "_view_module": "@jupyter-widgets/base",
            "_view_module_version": "1.2.0",
            "_view_name": "LayoutView",
            "align_content": null,
            "align_items": null,
            "align_self": null,
            "border": null,
            "bottom": null,
            "display": null,
            "flex": null,
            "flex_flow": null,
            "grid_area": null,
            "grid_auto_columns": null,
            "grid_auto_flow": null,
            "grid_auto_rows": null,
            "grid_column": null,
            "grid_gap": null,
            "grid_row": null,
            "grid_template_areas": null,
            "grid_template_columns": null,
            "grid_template_rows": null,
            "height": null,
            "justify_content": null,
            "justify_items": null,
            "left": null,
            "margin": null,
            "max_height": null,
            "max_width": null,
            "min_height": null,
            "min_width": null,
            "object_fit": null,
            "object_position": null,
            "order": null,
            "overflow": null,
            "overflow_x": null,
            "overflow_y": null,
            "padding": null,
            "right": null,
            "top": null,
            "visibility": null,
            "width": null
          }
        },
        "fc42f4af38b54fafb700cc290c2b4213": {
          "model_module": "@jupyter-widgets/controls",
          "model_name": "ProgressStyleModel",
          "model_module_version": "1.5.0",
          "state": {
            "_model_module": "@jupyter-widgets/controls",
            "_model_module_version": "1.5.0",
            "_model_name": "ProgressStyleModel",
            "_view_count": null,
            "_view_module": "@jupyter-widgets/base",
            "_view_module_version": "1.2.0",
            "_view_name": "StyleView",
            "bar_color": null,
            "description_width": ""
          }
        },
        "b8562573beb74223b6828bc00d4635fd": {
          "model_module": "@jupyter-widgets/base",
          "model_name": "LayoutModel",
          "model_module_version": "1.2.0",
          "state": {
            "_model_module": "@jupyter-widgets/base",
            "_model_module_version": "1.2.0",
            "_model_name": "LayoutModel",
            "_view_count": null,
            "_view_module": "@jupyter-widgets/base",
            "_view_module_version": "1.2.0",
            "_view_name": "LayoutView",
            "align_content": null,
            "align_items": null,
            "align_self": null,
            "border": null,
            "bottom": null,
            "display": null,
            "flex": null,
            "flex_flow": null,
            "grid_area": null,
            "grid_auto_columns": null,
            "grid_auto_flow": null,
            "grid_auto_rows": null,
            "grid_column": null,
            "grid_gap": null,
            "grid_row": null,
            "grid_template_areas": null,
            "grid_template_columns": null,
            "grid_template_rows": null,
            "height": null,
            "justify_content": null,
            "justify_items": null,
            "left": null,
            "margin": null,
            "max_height": null,
            "max_width": null,
            "min_height": null,
            "min_width": null,
            "object_fit": null,
            "object_position": null,
            "order": null,
            "overflow": null,
            "overflow_x": null,
            "overflow_y": null,
            "padding": null,
            "right": null,
            "top": null,
            "visibility": null,
            "width": null
          }
        },
        "2430e48384844100807c0c109fd5c59c": {
          "model_module": "@jupyter-widgets/controls",
          "model_name": "DescriptionStyleModel",
          "model_module_version": "1.5.0",
          "state": {
            "_model_module": "@jupyter-widgets/controls",
            "_model_module_version": "1.5.0",
            "_model_name": "DescriptionStyleModel",
            "_view_count": null,
            "_view_module": "@jupyter-widgets/base",
            "_view_module_version": "1.2.0",
            "_view_name": "StyleView",
            "description_width": ""
          }
        },
        "681d2d03399d4aa58907793a0bd54a7f": {
          "model_module": "@jupyter-widgets/controls",
          "model_name": "HBoxModel",
          "model_module_version": "1.5.0",
          "state": {
            "_dom_classes": [],
            "_model_module": "@jupyter-widgets/controls",
            "_model_module_version": "1.5.0",
            "_model_name": "HBoxModel",
            "_view_count": null,
            "_view_module": "@jupyter-widgets/controls",
            "_view_module_version": "1.5.0",
            "_view_name": "HBoxView",
            "box_style": "",
            "children": [
              "IPY_MODEL_c444c31f6f6c4570852dd0eb786f480f",
              "IPY_MODEL_96d60c0aee4b48f3a0455c30c4b04c05",
              "IPY_MODEL_1ea533c70a134eaea7b21c87b143ee53"
            ],
            "layout": "IPY_MODEL_df49b392f02441c0ab98d90066f03371"
          }
        },
        "c444c31f6f6c4570852dd0eb786f480f": {
          "model_module": "@jupyter-widgets/controls",
          "model_name": "HTMLModel",
          "model_module_version": "1.5.0",
          "state": {
            "_dom_classes": [],
            "_model_module": "@jupyter-widgets/controls",
            "_model_module_version": "1.5.0",
            "_model_name": "HTMLModel",
            "_view_count": null,
            "_view_module": "@jupyter-widgets/controls",
            "_view_module_version": "1.5.0",
            "_view_name": "HTMLView",
            "description": "",
            "description_tooltip": null,
            "layout": "IPY_MODEL_df7f9000389845e391553175349b5560",
            "placeholder": "​",
            "style": "IPY_MODEL_4b94e4e2b78540e9ace32e54da2da06f",
            "value": "Downloading: 100%"
          }
        },
        "96d60c0aee4b48f3a0455c30c4b04c05": {
          "model_module": "@jupyter-widgets/controls",
          "model_name": "FloatProgressModel",
          "model_module_version": "1.5.0",
          "state": {
            "_dom_classes": [],
            "_model_module": "@jupyter-widgets/controls",
            "_model_module_version": "1.5.0",
            "_model_name": "FloatProgressModel",
            "_view_count": null,
            "_view_module": "@jupyter-widgets/controls",
            "_view_module_version": "1.5.0",
            "_view_name": "ProgressView",
            "bar_style": "success",
            "description": "",
            "description_tooltip": null,
            "layout": "IPY_MODEL_9c0533b9ad8a458d951106837585e049",
            "max": 1215509,
            "min": 0,
            "orientation": "horizontal",
            "style": "IPY_MODEL_d52834da658a478ca53efea4aa51ec02",
            "value": 1215509
          }
        },
        "1ea533c70a134eaea7b21c87b143ee53": {
          "model_module": "@jupyter-widgets/controls",
          "model_name": "HTMLModel",
          "model_module_version": "1.5.0",
          "state": {
            "_dom_classes": [],
            "_model_module": "@jupyter-widgets/controls",
            "_model_module_version": "1.5.0",
            "_model_name": "HTMLModel",
            "_view_count": null,
            "_view_module": "@jupyter-widgets/controls",
            "_view_module_version": "1.5.0",
            "_view_name": "HTMLView",
            "description": "",
            "description_tooltip": null,
            "layout": "IPY_MODEL_90baa2d9bf62434185ae486f8a00c899",
            "placeholder": "​",
            "style": "IPY_MODEL_740237bef90b433b9c3f16e8242b5aad",
            "value": " 1.16M/1.16M [00:00&lt;00:00, 2.86MB/s]"
          }
        },
        "df49b392f02441c0ab98d90066f03371": {
          "model_module": "@jupyter-widgets/base",
          "model_name": "LayoutModel",
          "model_module_version": "1.2.0",
          "state": {
            "_model_module": "@jupyter-widgets/base",
            "_model_module_version": "1.2.0",
            "_model_name": "LayoutModel",
            "_view_count": null,
            "_view_module": "@jupyter-widgets/base",
            "_view_module_version": "1.2.0",
            "_view_name": "LayoutView",
            "align_content": null,
            "align_items": null,
            "align_self": null,
            "border": null,
            "bottom": null,
            "display": null,
            "flex": null,
            "flex_flow": null,
            "grid_area": null,
            "grid_auto_columns": null,
            "grid_auto_flow": null,
            "grid_auto_rows": null,
            "grid_column": null,
            "grid_gap": null,
            "grid_row": null,
            "grid_template_areas": null,
            "grid_template_columns": null,
            "grid_template_rows": null,
            "height": null,
            "justify_content": null,
            "justify_items": null,
            "left": null,
            "margin": null,
            "max_height": null,
            "max_width": null,
            "min_height": null,
            "min_width": null,
            "object_fit": null,
            "object_position": null,
            "order": null,
            "overflow": null,
            "overflow_x": null,
            "overflow_y": null,
            "padding": null,
            "right": null,
            "top": null,
            "visibility": null,
            "width": null
          }
        },
        "df7f9000389845e391553175349b5560": {
          "model_module": "@jupyter-widgets/base",
          "model_name": "LayoutModel",
          "model_module_version": "1.2.0",
          "state": {
            "_model_module": "@jupyter-widgets/base",
            "_model_module_version": "1.2.0",
            "_model_name": "LayoutModel",
            "_view_count": null,
            "_view_module": "@jupyter-widgets/base",
            "_view_module_version": "1.2.0",
            "_view_name": "LayoutView",
            "align_content": null,
            "align_items": null,
            "align_self": null,
            "border": null,
            "bottom": null,
            "display": null,
            "flex": null,
            "flex_flow": null,
            "grid_area": null,
            "grid_auto_columns": null,
            "grid_auto_flow": null,
            "grid_auto_rows": null,
            "grid_column": null,
            "grid_gap": null,
            "grid_row": null,
            "grid_template_areas": null,
            "grid_template_columns": null,
            "grid_template_rows": null,
            "height": null,
            "justify_content": null,
            "justify_items": null,
            "left": null,
            "margin": null,
            "max_height": null,
            "max_width": null,
            "min_height": null,
            "min_width": null,
            "object_fit": null,
            "object_position": null,
            "order": null,
            "overflow": null,
            "overflow_x": null,
            "overflow_y": null,
            "padding": null,
            "right": null,
            "top": null,
            "visibility": null,
            "width": null
          }
        },
        "4b94e4e2b78540e9ace32e54da2da06f": {
          "model_module": "@jupyter-widgets/controls",
          "model_name": "DescriptionStyleModel",
          "model_module_version": "1.5.0",
          "state": {
            "_model_module": "@jupyter-widgets/controls",
            "_model_module_version": "1.5.0",
            "_model_name": "DescriptionStyleModel",
            "_view_count": null,
            "_view_module": "@jupyter-widgets/base",
            "_view_module_version": "1.2.0",
            "_view_name": "StyleView",
            "description_width": ""
          }
        },
        "9c0533b9ad8a458d951106837585e049": {
          "model_module": "@jupyter-widgets/base",
          "model_name": "LayoutModel",
          "model_module_version": "1.2.0",
          "state": {
            "_model_module": "@jupyter-widgets/base",
            "_model_module_version": "1.2.0",
            "_model_name": "LayoutModel",
            "_view_count": null,
            "_view_module": "@jupyter-widgets/base",
            "_view_module_version": "1.2.0",
            "_view_name": "LayoutView",
            "align_content": null,
            "align_items": null,
            "align_self": null,
            "border": null,
            "bottom": null,
            "display": null,
            "flex": null,
            "flex_flow": null,
            "grid_area": null,
            "grid_auto_columns": null,
            "grid_auto_flow": null,
            "grid_auto_rows": null,
            "grid_column": null,
            "grid_gap": null,
            "grid_row": null,
            "grid_template_areas": null,
            "grid_template_columns": null,
            "grid_template_rows": null,
            "height": null,
            "justify_content": null,
            "justify_items": null,
            "left": null,
            "margin": null,
            "max_height": null,
            "max_width": null,
            "min_height": null,
            "min_width": null,
            "object_fit": null,
            "object_position": null,
            "order": null,
            "overflow": null,
            "overflow_x": null,
            "overflow_y": null,
            "padding": null,
            "right": null,
            "top": null,
            "visibility": null,
            "width": null
          }
        },
        "d52834da658a478ca53efea4aa51ec02": {
          "model_module": "@jupyter-widgets/controls",
          "model_name": "ProgressStyleModel",
          "model_module_version": "1.5.0",
          "state": {
            "_model_module": "@jupyter-widgets/controls",
            "_model_module_version": "1.5.0",
            "_model_name": "ProgressStyleModel",
            "_view_count": null,
            "_view_module": "@jupyter-widgets/base",
            "_view_module_version": "1.2.0",
            "_view_name": "StyleView",
            "bar_color": null,
            "description_width": ""
          }
        },
        "90baa2d9bf62434185ae486f8a00c899": {
          "model_module": "@jupyter-widgets/base",
          "model_name": "LayoutModel",
          "model_module_version": "1.2.0",
          "state": {
            "_model_module": "@jupyter-widgets/base",
            "_model_module_version": "1.2.0",
            "_model_name": "LayoutModel",
            "_view_count": null,
            "_view_module": "@jupyter-widgets/base",
            "_view_module_version": "1.2.0",
            "_view_name": "LayoutView",
            "align_content": null,
            "align_items": null,
            "align_self": null,
            "border": null,
            "bottom": null,
            "display": null,
            "flex": null,
            "flex_flow": null,
            "grid_area": null,
            "grid_auto_columns": null,
            "grid_auto_flow": null,
            "grid_auto_rows": null,
            "grid_column": null,
            "grid_gap": null,
            "grid_row": null,
            "grid_template_areas": null,
            "grid_template_columns": null,
            "grid_template_rows": null,
            "height": null,
            "justify_content": null,
            "justify_items": null,
            "left": null,
            "margin": null,
            "max_height": null,
            "max_width": null,
            "min_height": null,
            "min_width": null,
            "object_fit": null,
            "object_position": null,
            "order": null,
            "overflow": null,
            "overflow_x": null,
            "overflow_y": null,
            "padding": null,
            "right": null,
            "top": null,
            "visibility": null,
            "width": null
          }
        },
        "740237bef90b433b9c3f16e8242b5aad": {
          "model_module": "@jupyter-widgets/controls",
          "model_name": "DescriptionStyleModel",
          "model_module_version": "1.5.0",
          "state": {
            "_model_module": "@jupyter-widgets/controls",
            "_model_module_version": "1.5.0",
            "_model_name": "DescriptionStyleModel",
            "_view_count": null,
            "_view_module": "@jupyter-widgets/base",
            "_view_module_version": "1.2.0",
            "_view_name": "StyleView",
            "description_width": ""
          }
        },
        "edc8bd5ceb1a4ab989d46b6461e77b4d": {
          "model_module": "@jupyter-widgets/controls",
          "model_name": "HBoxModel",
          "model_module_version": "1.5.0",
          "state": {
            "_dom_classes": [],
            "_model_module": "@jupyter-widgets/controls",
            "_model_module_version": "1.5.0",
            "_model_name": "HBoxModel",
            "_view_count": null,
            "_view_module": "@jupyter-widgets/controls",
            "_view_module_version": "1.5.0",
            "_view_name": "HBoxView",
            "box_style": "",
            "children": [
              "IPY_MODEL_d22217e10fde472cb356a837506ab1db",
              "IPY_MODEL_7aa5f52ab8914e21a822308bfe5da3a0",
              "IPY_MODEL_16e9646cb5594f649c13d6aa9f4efdc4"
            ],
            "layout": "IPY_MODEL_6bda7d3a81a74ac1b5e489eb1aba98da"
          }
        },
        "d22217e10fde472cb356a837506ab1db": {
          "model_module": "@jupyter-widgets/controls",
          "model_name": "HTMLModel",
          "model_module_version": "1.5.0",
          "state": {
            "_dom_classes": [],
            "_model_module": "@jupyter-widgets/controls",
            "_model_module_version": "1.5.0",
            "_model_name": "HTMLModel",
            "_view_count": null,
            "_view_module": "@jupyter-widgets/controls",
            "_view_module_version": "1.5.0",
            "_view_name": "HTMLView",
            "description": "",
            "description_tooltip": null,
            "layout": "IPY_MODEL_2de57c6dccb047bdb5faaf8603eddaea",
            "placeholder": "​",
            "style": "IPY_MODEL_4728b1e30eed4950bfb0360e89dc688b",
            "value": "Downloading: 100%"
          }
        },
        "7aa5f52ab8914e21a822308bfe5da3a0": {
          "model_module": "@jupyter-widgets/controls",
          "model_name": "FloatProgressModel",
          "model_module_version": "1.5.0",
          "state": {
            "_dom_classes": [],
            "_model_module": "@jupyter-widgets/controls",
            "_model_module_version": "1.5.0",
            "_model_name": "FloatProgressModel",
            "_view_count": null,
            "_view_module": "@jupyter-widgets/controls",
            "_view_module_version": "1.5.0",
            "_view_name": "ProgressView",
            "bar_style": "success",
            "description": "",
            "description_tooltip": null,
            "layout": "IPY_MODEL_c1c085870d2440c8ba8f33f43b48358f",
            "max": 963211760,
            "min": 0,
            "orientation": "horizontal",
            "style": "IPY_MODEL_fbe4e642e22f418aa80dbe87a18d435b",
            "value": 963211760
          }
        },
        "16e9646cb5594f649c13d6aa9f4efdc4": {
          "model_module": "@jupyter-widgets/controls",
          "model_name": "HTMLModel",
          "model_module_version": "1.5.0",
          "state": {
            "_dom_classes": [],
            "_model_module": "@jupyter-widgets/controls",
            "_model_module_version": "1.5.0",
            "_model_name": "HTMLModel",
            "_view_count": null,
            "_view_module": "@jupyter-widgets/controls",
            "_view_module_version": "1.5.0",
            "_view_name": "HTMLView",
            "description": "",
            "description_tooltip": null,
            "layout": "IPY_MODEL_c93a6a1ba60f4dc2b91ae3a71c9a614c",
            "placeholder": "​",
            "style": "IPY_MODEL_8ecaeeb8655141068e07f02431e9ad6b",
            "value": " 919M/919M [00:18&lt;00:00, 56.3MB/s]"
          }
        },
        "6bda7d3a81a74ac1b5e489eb1aba98da": {
          "model_module": "@jupyter-widgets/base",
          "model_name": "LayoutModel",
          "model_module_version": "1.2.0",
          "state": {
            "_model_module": "@jupyter-widgets/base",
            "_model_module_version": "1.2.0",
            "_model_name": "LayoutModel",
            "_view_count": null,
            "_view_module": "@jupyter-widgets/base",
            "_view_module_version": "1.2.0",
            "_view_name": "LayoutView",
            "align_content": null,
            "align_items": null,
            "align_self": null,
            "border": null,
            "bottom": null,
            "display": null,
            "flex": null,
            "flex_flow": null,
            "grid_area": null,
            "grid_auto_columns": null,
            "grid_auto_flow": null,
            "grid_auto_rows": null,
            "grid_column": null,
            "grid_gap": null,
            "grid_row": null,
            "grid_template_areas": null,
            "grid_template_columns": null,
            "grid_template_rows": null,
            "height": null,
            "justify_content": null,
            "justify_items": null,
            "left": null,
            "margin": null,
            "max_height": null,
            "max_width": null,
            "min_height": null,
            "min_width": null,
            "object_fit": null,
            "object_position": null,
            "order": null,
            "overflow": null,
            "overflow_x": null,
            "overflow_y": null,
            "padding": null,
            "right": null,
            "top": null,
            "visibility": null,
            "width": null
          }
        },
        "2de57c6dccb047bdb5faaf8603eddaea": {
          "model_module": "@jupyter-widgets/base",
          "model_name": "LayoutModel",
          "model_module_version": "1.2.0",
          "state": {
            "_model_module": "@jupyter-widgets/base",
            "_model_module_version": "1.2.0",
            "_model_name": "LayoutModel",
            "_view_count": null,
            "_view_module": "@jupyter-widgets/base",
            "_view_module_version": "1.2.0",
            "_view_name": "LayoutView",
            "align_content": null,
            "align_items": null,
            "align_self": null,
            "border": null,
            "bottom": null,
            "display": null,
            "flex": null,
            "flex_flow": null,
            "grid_area": null,
            "grid_auto_columns": null,
            "grid_auto_flow": null,
            "grid_auto_rows": null,
            "grid_column": null,
            "grid_gap": null,
            "grid_row": null,
            "grid_template_areas": null,
            "grid_template_columns": null,
            "grid_template_rows": null,
            "height": null,
            "justify_content": null,
            "justify_items": null,
            "left": null,
            "margin": null,
            "max_height": null,
            "max_width": null,
            "min_height": null,
            "min_width": null,
            "object_fit": null,
            "object_position": null,
            "order": null,
            "overflow": null,
            "overflow_x": null,
            "overflow_y": null,
            "padding": null,
            "right": null,
            "top": null,
            "visibility": null,
            "width": null
          }
        },
        "4728b1e30eed4950bfb0360e89dc688b": {
          "model_module": "@jupyter-widgets/controls",
          "model_name": "DescriptionStyleModel",
          "model_module_version": "1.5.0",
          "state": {
            "_model_module": "@jupyter-widgets/controls",
            "_model_module_version": "1.5.0",
            "_model_name": "DescriptionStyleModel",
            "_view_count": null,
            "_view_module": "@jupyter-widgets/base",
            "_view_module_version": "1.2.0",
            "_view_name": "StyleView",
            "description_width": ""
          }
        },
        "c1c085870d2440c8ba8f33f43b48358f": {
          "model_module": "@jupyter-widgets/base",
          "model_name": "LayoutModel",
          "model_module_version": "1.2.0",
          "state": {
            "_model_module": "@jupyter-widgets/base",
            "_model_module_version": "1.2.0",
            "_model_name": "LayoutModel",
            "_view_count": null,
            "_view_module": "@jupyter-widgets/base",
            "_view_module_version": "1.2.0",
            "_view_name": "LayoutView",
            "align_content": null,
            "align_items": null,
            "align_self": null,
            "border": null,
            "bottom": null,
            "display": null,
            "flex": null,
            "flex_flow": null,
            "grid_area": null,
            "grid_auto_columns": null,
            "grid_auto_flow": null,
            "grid_auto_rows": null,
            "grid_column": null,
            "grid_gap": null,
            "grid_row": null,
            "grid_template_areas": null,
            "grid_template_columns": null,
            "grid_template_rows": null,
            "height": null,
            "justify_content": null,
            "justify_items": null,
            "left": null,
            "margin": null,
            "max_height": null,
            "max_width": null,
            "min_height": null,
            "min_width": null,
            "object_fit": null,
            "object_position": null,
            "order": null,
            "overflow": null,
            "overflow_x": null,
            "overflow_y": null,
            "padding": null,
            "right": null,
            "top": null,
            "visibility": null,
            "width": null
          }
        },
        "fbe4e642e22f418aa80dbe87a18d435b": {
          "model_module": "@jupyter-widgets/controls",
          "model_name": "ProgressStyleModel",
          "model_module_version": "1.5.0",
          "state": {
            "_model_module": "@jupyter-widgets/controls",
            "_model_module_version": "1.5.0",
            "_model_name": "ProgressStyleModel",
            "_view_count": null,
            "_view_module": "@jupyter-widgets/base",
            "_view_module_version": "1.2.0",
            "_view_name": "StyleView",
            "bar_color": null,
            "description_width": ""
          }
        },
        "c93a6a1ba60f4dc2b91ae3a71c9a614c": {
          "model_module": "@jupyter-widgets/base",
          "model_name": "LayoutModel",
          "model_module_version": "1.2.0",
          "state": {
            "_model_module": "@jupyter-widgets/base",
            "_model_module_version": "1.2.0",
            "_model_name": "LayoutModel",
            "_view_count": null,
            "_view_module": "@jupyter-widgets/base",
            "_view_module_version": "1.2.0",
            "_view_name": "LayoutView",
            "align_content": null,
            "align_items": null,
            "align_self": null,
            "border": null,
            "bottom": null,
            "display": null,
            "flex": null,
            "flex_flow": null,
            "grid_area": null,
            "grid_auto_columns": null,
            "grid_auto_flow": null,
            "grid_auto_rows": null,
            "grid_column": null,
            "grid_gap": null,
            "grid_row": null,
            "grid_template_areas": null,
            "grid_template_columns": null,
            "grid_template_rows": null,
            "height": null,
            "justify_content": null,
            "justify_items": null,
            "left": null,
            "margin": null,
            "max_height": null,
            "max_width": null,
            "min_height": null,
            "min_width": null,
            "object_fit": null,
            "object_position": null,
            "order": null,
            "overflow": null,
            "overflow_x": null,
            "overflow_y": null,
            "padding": null,
            "right": null,
            "top": null,
            "visibility": null,
            "width": null
          }
        },
        "8ecaeeb8655141068e07f02431e9ad6b": {
          "model_module": "@jupyter-widgets/controls",
          "model_name": "DescriptionStyleModel",
          "model_module_version": "1.5.0",
          "state": {
            "_model_module": "@jupyter-widgets/controls",
            "_model_module_version": "1.5.0",
            "_model_name": "DescriptionStyleModel",
            "_view_count": null,
            "_view_module": "@jupyter-widgets/base",
            "_view_module_version": "1.2.0",
            "_view_name": "StyleView",
            "description_width": ""
          }
        }
      }
    }
  },
  "cells": [
    {
      "cell_type": "markdown",
      "source": [
        "# **NLP - CA4 - Question 2**\n",
        "\n",
        "**Parnian Fazel (810198516)**"
      ],
      "metadata": {
        "id": "4WgNnA6AMqEj"
      }
    },
    {
      "cell_type": "code",
      "execution_count": null,
      "metadata": {
        "colab": {
          "base_uri": "https://localhost:8080/"
        },
        "id": "JVkZbyU9Iq9A",
        "outputId": "9bf1f5ba-498b-4936-f822-d733aab95bca"
      },
      "outputs": [
        {
          "output_type": "stream",
          "name": "stdout",
          "text": [
            "Looking in indexes: https://pypi.org/simple, https://us-python.pkg.dev/colab-wheels/public/simple/\n",
            "Collecting transformers\n",
            "  Downloading transformers-4.19.2-py3-none-any.whl (4.2 MB)\n",
            "\u001b[K     |████████████████████████████████| 4.2 MB 5.3 MB/s \n",
            "\u001b[?25hRequirement already satisfied: requests in /usr/local/lib/python3.7/dist-packages (from transformers) (2.23.0)\n",
            "Collecting huggingface-hub<1.0,>=0.1.0\n",
            "  Downloading huggingface_hub-0.7.0-py3-none-any.whl (86 kB)\n",
            "\u001b[K     |████████████████████████████████| 86 kB 5.5 MB/s \n",
            "\u001b[?25hRequirement already satisfied: packaging>=20.0 in /usr/local/lib/python3.7/dist-packages (from transformers) (21.3)\n",
            "Requirement already satisfied: numpy>=1.17 in /usr/local/lib/python3.7/dist-packages (from transformers) (1.21.6)\n",
            "Requirement already satisfied: filelock in /usr/local/lib/python3.7/dist-packages (from transformers) (3.7.0)\n",
            "Requirement already satisfied: tqdm>=4.27 in /usr/local/lib/python3.7/dist-packages (from transformers) (4.64.0)\n",
            "Requirement already satisfied: importlib-metadata in /usr/local/lib/python3.7/dist-packages (from transformers) (4.11.3)\n",
            "Collecting pyyaml>=5.1\n",
            "  Downloading PyYAML-6.0-cp37-cp37m-manylinux_2_5_x86_64.manylinux1_x86_64.manylinux_2_12_x86_64.manylinux2010_x86_64.whl (596 kB)\n",
            "\u001b[K     |████████████████████████████████| 596 kB 54.4 MB/s \n",
            "\u001b[?25hRequirement already satisfied: regex!=2019.12.17 in /usr/local/lib/python3.7/dist-packages (from transformers) (2019.12.20)\n",
            "Collecting tokenizers!=0.11.3,<0.13,>=0.11.1\n",
            "  Downloading tokenizers-0.12.1-cp37-cp37m-manylinux_2_12_x86_64.manylinux2010_x86_64.whl (6.6 MB)\n",
            "\u001b[K     |████████████████████████████████| 6.6 MB 55.8 MB/s \n",
            "\u001b[?25hRequirement already satisfied: typing-extensions>=3.7.4.3 in /usr/local/lib/python3.7/dist-packages (from huggingface-hub<1.0,>=0.1.0->transformers) (4.2.0)\n",
            "Requirement already satisfied: pyparsing!=3.0.5,>=2.0.2 in /usr/local/lib/python3.7/dist-packages (from packaging>=20.0->transformers) (3.0.9)\n",
            "Requirement already satisfied: zipp>=0.5 in /usr/local/lib/python3.7/dist-packages (from importlib-metadata->transformers) (3.8.0)\n",
            "Requirement already satisfied: idna<3,>=2.5 in /usr/local/lib/python3.7/dist-packages (from requests->transformers) (2.10)\n",
            "Requirement already satisfied: urllib3!=1.25.0,!=1.25.1,<1.26,>=1.21.1 in /usr/local/lib/python3.7/dist-packages (from requests->transformers) (1.24.3)\n",
            "Requirement already satisfied: chardet<4,>=3.0.2 in /usr/local/lib/python3.7/dist-packages (from requests->transformers) (3.0.4)\n",
            "Requirement already satisfied: certifi>=2017.4.17 in /usr/local/lib/python3.7/dist-packages (from requests->transformers) (2022.5.18.1)\n",
            "Installing collected packages: pyyaml, tokenizers, huggingface-hub, transformers\n",
            "  Attempting uninstall: pyyaml\n",
            "    Found existing installation: PyYAML 3.13\n",
            "    Uninstalling PyYAML-3.13:\n",
            "      Successfully uninstalled PyYAML-3.13\n",
            "Successfully installed huggingface-hub-0.7.0 pyyaml-6.0 tokenizers-0.12.1 transformers-4.19.2\n"
          ]
        }
      ],
      "source": [
        "!pip install transformers"
      ]
    },
    {
      "cell_type": "code",
      "source": [
        "import pandas as pd\n",
        "import numpy as np\n",
        "import tensorflow as tf\n",
        "from tqdm.auto import tqdm\n",
        "from transformers import BertTokenizer\n",
        "from transformers import TrainingArguments, Trainer\n",
        "from transformers import DefaultDataCollator\n",
        "from transformers import AutoTokenizer\n",
        "from transformers import TFAutoModel\n",
        "from transformers import AutoModelForSequenceClassification\n",
        "import matplotlib.pyplot as plt\n",
        "from sklearn import metrics\n",
        "from sklearn.metrics import classification_report\n",
        "from sklearn.metrics import confusion_matrix\n",
        "import seaborn as sns"
      ],
      "metadata": {
        "id": "wxREkiGII0-4"
      },
      "execution_count": null,
      "outputs": []
    },
    {
      "cell_type": "code",
      "source": [
        "import tensorflow as tf\n",
        "device_name = tf.test.gpu_device_name()\n",
        "if device_name != '/device:GPU:0':\n",
        "  raise SystemError('GPU device not found')\n",
        "print('Found GPU at: {}'.format(device_name))"
      ],
      "metadata": {
        "colab": {
          "base_uri": "https://localhost:8080/"
        },
        "id": "w78NF5pgI5JO",
        "outputId": "32c7193d-ada1-41c9-f8d6-9853a1c8e284"
      },
      "execution_count": null,
      "outputs": [
        {
          "output_type": "stream",
          "name": "stdout",
          "text": [
            "Found GPU at: /device:GPU:0\n"
          ]
        }
      ]
    },
    {
      "cell_type": "code",
      "source": [
        "from google.colab import drive\n",
        "drive.mount('/content/drive')"
      ],
      "metadata": {
        "colab": {
          "base_uri": "https://localhost:8080/"
        },
        "id": "ueM6Z0cFJLUk",
        "outputId": "df26fab6-cf02-453d-8863-5852e124a860"
      },
      "execution_count": null,
      "outputs": [
        {
          "output_type": "stream",
          "name": "stdout",
          "text": [
            "Mounted at /content/drive\n"
          ]
        }
      ]
    },
    {
      "cell_type": "code",
      "source": [
        "!cp \"/content/drive/MyDrive/Question2_Data/train.xlsx\" .\n",
        "!cp \"/content/drive/MyDrive/Question2_Data/test.xlsx\" .\n",
        "!cp \"/content/drive/MyDrive/Question2_Data/valid.xlsx\" ."
      ],
      "metadata": {
        "id": "34daZxeAJN6e"
      },
      "execution_count": null,
      "outputs": []
    },
    {
      "cell_type": "code",
      "source": [
        "train_df = pd.read_excel('/content/train.xlsx')\n",
        "test_df = pd.read_excel('/content/test.xlsx')\n",
        "train_df"
      ],
      "metadata": {
        "colab": {
          "base_uri": "https://localhost:8080/",
          "height": 424
        },
        "id": "rDgA39FwGVFM",
        "outputId": "52f9a2b6-cd6e-4526-d9f5-671b06a3f45f"
      },
      "execution_count": null,
      "outputs": [
        {
          "output_type": "execute_result",
          "data": {
            "text/plain": [
              "                                                  source  \\\n",
              "0      When news is brought to one of them, of (the b...   \n",
              "1      After them repaired Zadok the son of Immer ove...   \n",
              "2      And establish regular prayers at the two ends ...   \n",
              "3      And it came to pass, that, when I was come aga...   \n",
              "4           Ah woe, that Day, to the Rejecters of Truth!   \n",
              "...                                                  ...   \n",
              "12595  Women impure are for men impure, and men impur...   \n",
              "12596  I don't want any silly dance given in my honour.'   \n",
              "12597  And the Earth will shine with the Glory of its...   \n",
              "12598  Then lifted I up mine eyes, and saw, and behol...   \n",
              "12599                             His soul was dried up.   \n",
              "\n",
              "                                                 targets category  \n",
              "0      و چون یکی از آنان را به [ولادت] دختر مژده دهند...    quran  \n",
              "1      و چون دشمنان ما شنیدند که ما آگاه شده‌ایم و خد...    bible  \n",
              "2      و نماز را در دو طرف روز و ساعات نخستین شب برپا...    quran  \n",
              "3      و فرمود تا مدعیانش نزد تو حاضر شوند؛ و از او ب...    bible  \n",
              "4                        وای در آن روز بر تکذیب کنندگان!    quran  \n",
              "...                                                  ...      ...  \n",
              "12595  زنان پلید برای مردان پلید و مردان پلید برای زن...    quran  \n",
              "12596  بنابراین حالا هم میل ندارم جشنی به افتخار من د...    mizan  \n",
              "12597  و زمین به نور پروردگارش روشن می‌شود، و کتاب [ا...    quran  \n",
              "12598  گفتم: «این چیست؟» او جواب داد: «این است آن ایف...    bible  \n",
              "12599                                    روح خشکیده بود.    mizan  \n",
              "\n",
              "[12600 rows x 3 columns]"
            ],
            "text/html": [
              "\n",
              "  <div id=\"df-3f367ef8-3c73-42ac-b145-f57255259f1b\">\n",
              "    <div class=\"colab-df-container\">\n",
              "      <div>\n",
              "<style scoped>\n",
              "    .dataframe tbody tr th:only-of-type {\n",
              "        vertical-align: middle;\n",
              "    }\n",
              "\n",
              "    .dataframe tbody tr th {\n",
              "        vertical-align: top;\n",
              "    }\n",
              "\n",
              "    .dataframe thead th {\n",
              "        text-align: right;\n",
              "    }\n",
              "</style>\n",
              "<table border=\"1\" class=\"dataframe\">\n",
              "  <thead>\n",
              "    <tr style=\"text-align: right;\">\n",
              "      <th></th>\n",
              "      <th>source</th>\n",
              "      <th>targets</th>\n",
              "      <th>category</th>\n",
              "    </tr>\n",
              "  </thead>\n",
              "  <tbody>\n",
              "    <tr>\n",
              "      <th>0</th>\n",
              "      <td>When news is brought to one of them, of (the b...</td>\n",
              "      <td>و چون یکی از آنان را به [ولادت] دختر مژده دهند...</td>\n",
              "      <td>quran</td>\n",
              "    </tr>\n",
              "    <tr>\n",
              "      <th>1</th>\n",
              "      <td>After them repaired Zadok the son of Immer ove...</td>\n",
              "      <td>و چون دشمنان ما شنیدند که ما آگاه شده‌ایم و خد...</td>\n",
              "      <td>bible</td>\n",
              "    </tr>\n",
              "    <tr>\n",
              "      <th>2</th>\n",
              "      <td>And establish regular prayers at the two ends ...</td>\n",
              "      <td>و نماز را در دو طرف روز و ساعات نخستین شب برپا...</td>\n",
              "      <td>quran</td>\n",
              "    </tr>\n",
              "    <tr>\n",
              "      <th>3</th>\n",
              "      <td>And it came to pass, that, when I was come aga...</td>\n",
              "      <td>و فرمود تا مدعیانش نزد تو حاضر شوند؛ و از او ب...</td>\n",
              "      <td>bible</td>\n",
              "    </tr>\n",
              "    <tr>\n",
              "      <th>4</th>\n",
              "      <td>Ah woe, that Day, to the Rejecters of Truth!</td>\n",
              "      <td>وای در آن روز بر تکذیب کنندگان!</td>\n",
              "      <td>quran</td>\n",
              "    </tr>\n",
              "    <tr>\n",
              "      <th>...</th>\n",
              "      <td>...</td>\n",
              "      <td>...</td>\n",
              "      <td>...</td>\n",
              "    </tr>\n",
              "    <tr>\n",
              "      <th>12595</th>\n",
              "      <td>Women impure are for men impure, and men impur...</td>\n",
              "      <td>زنان پلید برای مردان پلید و مردان پلید برای زن...</td>\n",
              "      <td>quran</td>\n",
              "    </tr>\n",
              "    <tr>\n",
              "      <th>12596</th>\n",
              "      <td>I don't want any silly dance given in my honour.'</td>\n",
              "      <td>بنابراین حالا هم میل ندارم جشنی به افتخار من د...</td>\n",
              "      <td>mizan</td>\n",
              "    </tr>\n",
              "    <tr>\n",
              "      <th>12597</th>\n",
              "      <td>And the Earth will shine with the Glory of its...</td>\n",
              "      <td>و زمین به نور پروردگارش روشن می‌شود، و کتاب [ا...</td>\n",
              "      <td>quran</td>\n",
              "    </tr>\n",
              "    <tr>\n",
              "      <th>12598</th>\n",
              "      <td>Then lifted I up mine eyes, and saw, and behol...</td>\n",
              "      <td>گفتم: «این چیست؟» او جواب داد: «این است آن ایف...</td>\n",
              "      <td>bible</td>\n",
              "    </tr>\n",
              "    <tr>\n",
              "      <th>12599</th>\n",
              "      <td>His soul was dried up.</td>\n",
              "      <td>روح خشکیده بود.</td>\n",
              "      <td>mizan</td>\n",
              "    </tr>\n",
              "  </tbody>\n",
              "</table>\n",
              "<p>12600 rows × 3 columns</p>\n",
              "</div>\n",
              "      <button class=\"colab-df-convert\" onclick=\"convertToInteractive('df-3f367ef8-3c73-42ac-b145-f57255259f1b')\"\n",
              "              title=\"Convert this dataframe to an interactive table.\"\n",
              "              style=\"display:none;\">\n",
              "        \n",
              "  <svg xmlns=\"http://www.w3.org/2000/svg\" height=\"24px\"viewBox=\"0 0 24 24\"\n",
              "       width=\"24px\">\n",
              "    <path d=\"M0 0h24v24H0V0z\" fill=\"none\"/>\n",
              "    <path d=\"M18.56 5.44l.94 2.06.94-2.06 2.06-.94-2.06-.94-.94-2.06-.94 2.06-2.06.94zm-11 1L8.5 8.5l.94-2.06 2.06-.94-2.06-.94L8.5 2.5l-.94 2.06-2.06.94zm10 10l.94 2.06.94-2.06 2.06-.94-2.06-.94-.94-2.06-.94 2.06-2.06.94z\"/><path d=\"M17.41 7.96l-1.37-1.37c-.4-.4-.92-.59-1.43-.59-.52 0-1.04.2-1.43.59L10.3 9.45l-7.72 7.72c-.78.78-.78 2.05 0 2.83L4 21.41c.39.39.9.59 1.41.59.51 0 1.02-.2 1.41-.59l7.78-7.78 2.81-2.81c.8-.78.8-2.07 0-2.86zM5.41 20L4 18.59l7.72-7.72 1.47 1.35L5.41 20z\"/>\n",
              "  </svg>\n",
              "      </button>\n",
              "      \n",
              "  <style>\n",
              "    .colab-df-container {\n",
              "      display:flex;\n",
              "      flex-wrap:wrap;\n",
              "      gap: 12px;\n",
              "    }\n",
              "\n",
              "    .colab-df-convert {\n",
              "      background-color: #E8F0FE;\n",
              "      border: none;\n",
              "      border-radius: 50%;\n",
              "      cursor: pointer;\n",
              "      display: none;\n",
              "      fill: #1967D2;\n",
              "      height: 32px;\n",
              "      padding: 0 0 0 0;\n",
              "      width: 32px;\n",
              "    }\n",
              "\n",
              "    .colab-df-convert:hover {\n",
              "      background-color: #E2EBFA;\n",
              "      box-shadow: 0px 1px 2px rgba(60, 64, 67, 0.3), 0px 1px 3px 1px rgba(60, 64, 67, 0.15);\n",
              "      fill: #174EA6;\n",
              "    }\n",
              "\n",
              "    [theme=dark] .colab-df-convert {\n",
              "      background-color: #3B4455;\n",
              "      fill: #D2E3FC;\n",
              "    }\n",
              "\n",
              "    [theme=dark] .colab-df-convert:hover {\n",
              "      background-color: #434B5C;\n",
              "      box-shadow: 0px 1px 3px 1px rgba(0, 0, 0, 0.15);\n",
              "      filter: drop-shadow(0px 1px 2px rgba(0, 0, 0, 0.3));\n",
              "      fill: #FFFFFF;\n",
              "    }\n",
              "  </style>\n",
              "\n",
              "      <script>\n",
              "        const buttonEl =\n",
              "          document.querySelector('#df-3f367ef8-3c73-42ac-b145-f57255259f1b button.colab-df-convert');\n",
              "        buttonEl.style.display =\n",
              "          google.colab.kernel.accessAllowed ? 'block' : 'none';\n",
              "\n",
              "        async function convertToInteractive(key) {\n",
              "          const element = document.querySelector('#df-3f367ef8-3c73-42ac-b145-f57255259f1b');\n",
              "          const dataTable =\n",
              "            await google.colab.kernel.invokeFunction('convertToInteractive',\n",
              "                                                     [key], {});\n",
              "          if (!dataTable) return;\n",
              "\n",
              "          const docLinkHtml = 'Like what you see? Visit the ' +\n",
              "            '<a target=\"_blank\" href=https://colab.research.google.com/notebooks/data_table.ipynb>data table notebook</a>'\n",
              "            + ' to learn more about interactive tables.';\n",
              "          element.innerHTML = '';\n",
              "          dataTable['output_type'] = 'display_data';\n",
              "          await google.colab.output.renderOutput(dataTable, element);\n",
              "          const docLink = document.createElement('div');\n",
              "          docLink.innerHTML = docLinkHtml;\n",
              "          element.appendChild(docLink);\n",
              "        }\n",
              "      </script>\n",
              "    </div>\n",
              "  </div>\n",
              "  "
            ]
          },
          "metadata": {},
          "execution_count": 7
        }
      ]
    },
    {
      "cell_type": "code",
      "source": [
        "print(train_df['category'].value_counts())\n",
        "plt.title(\"Train dataset value counts\")\n",
        "train_df['category'].value_counts().plot.bar(color='maroon')"
      ],
      "metadata": {
        "colab": {
          "base_uri": "https://localhost:8080/",
          "height": 388
        },
        "id": "ySmmqONrGVDG",
        "outputId": "79f08de0-c753-44b7-cbec-7c67c06e5c60"
      },
      "execution_count": null,
      "outputs": [
        {
          "output_type": "stream",
          "name": "stdout",
          "text": [
            "quran    4200\n",
            "bible    4200\n",
            "mizan    4200\n",
            "Name: category, dtype: int64\n"
          ]
        },
        {
          "output_type": "execute_result",
          "data": {
            "text/plain": [
              "<matplotlib.axes._subplots.AxesSubplot at 0x7f24edec9710>"
            ]
          },
          "metadata": {},
          "execution_count": 8
        },
        {
          "output_type": "display_data",
          "data": {
            "text/plain": [
              "<Figure size 432x288 with 1 Axes>"
            ],
            "image/png": "[encoded data removed]"
          },
          "metadata": {
            "needs_background": "light"
          }
        }
      ]
    },
    {
      "cell_type": "code",
      "source": [
        "print(test_df['category'].value_counts())\n",
        "plt.title(\"Train dataset value counts\")\n",
        "test_df['category'].value_counts().plot.bar(color='maroon')"
      ],
      "metadata": {
        "colab": {
          "base_uri": "https://localhost:8080/",
          "height": 388
        },
        "id": "JNwDujSjGVAh",
        "outputId": "4b379a4e-bb8d-40b3-e6e3-72a042017e05"
      },
      "execution_count": null,
      "outputs": [
        {
          "output_type": "stream",
          "name": "stdout",
          "text": [
            "mizan    900\n",
            "bible    900\n",
            "quran    900\n",
            "Name: category, dtype: int64\n"
          ]
        },
        {
          "output_type": "execute_result",
          "data": {
            "text/plain": [
              "<matplotlib.axes._subplots.AxesSubplot at 0x7f24ee0ef7d0>"
            ]
          },
          "metadata": {},
          "execution_count": 9
        },
        {
          "output_type": "display_data",
          "data": {
            "text/plain": [
              "<Figure size 432x288 with 1 Axes>"
            ],
            "image/png": "[encoded data removed]"
          },
          "metadata": {
            "needs_background": "light"
          }
        }
      ]
    },
    {
      "cell_type": "code",
      "source": [
        "class Classifier:\n",
        "    def __init__(self, model_address, train_column_name, test_column_name, batch_size=32, seq_len=128):\n",
        "      self.train_df = pd.read_excel('/content/train.xlsx')\n",
        "      self.valid_df = pd.read_excel('/content/valid.xlsx')\n",
        "      self.test_df = pd.read_excel('/content/test.xlsx')\n",
        "      self.encoded_dict = {'quran' : 0, 'bible': 1, 'mizan': 2}\n",
        "      self.seq_len = seq_len\n",
        "      self.model_address = model_address\n",
        "      self.train_column_name = train_column_name\n",
        "      self.test_column_name = test_column_name\n",
        "      self.batch_size = batch_size\n",
        "      self.prepare_data()\n",
        "      self.set_model_and_tokenizer()\n",
        "\n",
        "    def encode_classes(self, df):\n",
        "      return df.category.map(self.encoded_dict)\n",
        "\n",
        "    def prepare_data(self):\n",
        "      self.train_df['category'] = self.encode_classes(self.train_df)\n",
        "      self.valid_df['category'] = self.encode_classes(self.valid_df)\n",
        "      self.test_df['category'] = self.encode_classes(self.test_df)  \n",
        "\n",
        "    def set_model_and_tokenizer(self):\n",
        "      if self.model_address != 'xlm-roberta-base':\n",
        "        self.tokenizer = AutoTokenizer.from_pretrained(self.model_address)\n",
        "        self.bert = TFAutoModel.from_pretrained(self.model_address)\n",
        "      else: \n",
        "        self.tokenizer = AutoTokenizer.from_pretrained(self.model_address, from_pt=True)\n",
        "        self.bert = TFAutoModel.from_pretrained(self.model_address, from_pt=True)\n",
        "\n",
        "    def get_tokenized_ids(self, df, column_name):\n",
        "      record_len = len(df)\n",
        "      xinput_ids = np.zeros((record_len, self.seq_len))\n",
        "      xmask_ids = np.zeros((record_len, self.seq_len))\n",
        "\n",
        "      for i, row in df.iterrows():\n",
        "        if self.model_address != 'xlm-roberta-base':\n",
        "          input_data = row[column_name]\n",
        "        else:\n",
        "          input_data = row['source'], row['targets']\n",
        "\n",
        "        tokens = self.tokenizer.encode_plus(input_data, max_length=self.seq_len, truncation=True,\n",
        "                                      padding='max_length', add_special_tokens=True,\n",
        "                                      return_tensors='tf')\n",
        "        xinput_ids[i, :] = tokens['input_ids']\n",
        "        xmask_ids[i, :] = tokens['attention_mask']\n",
        "\n",
        "      class_values = df['category'].values\n",
        "      labels = np.zeros((record_len, class_values.max()+1))\n",
        "      labels[np.arange(record_len), class_values] = 1 #one-hot encoding\n",
        "      return xinput_ids, xmask_ids, labels\n",
        "\n",
        "\n",
        "    def dataset_mapper(self, input_ids, masks, labels):\n",
        "      return {'input_ids': input_ids, 'attention_mask': masks}, labels\n",
        "\n",
        "\n",
        "    def get_dataset(self, df, column_name):\n",
        "      xinput_ids, xmask_ids, labels = self.get_tokenized_ids(df, column_name)\n",
        "      dataset = tf.data.Dataset.from_tensor_slices((xinput_ids, xmask_ids, labels))\n",
        "      dataset = dataset.map(self.dataset_mapper)\n",
        "      return dataset.batch(self.batch_size, drop_remainder=True)\n",
        "\n",
        "    def create_model(self):\n",
        "      input_ids = tf.keras.layers.Input(shape=(128,), name='input_ids', dtype='int32')\n",
        "      mask = tf.keras.layers.Input(shape=(128,), name='attention_mask', dtype='int32')\n",
        "\n",
        "      embeddings = self.bert(input_ids, attention_mask=mask).pooler_output\n",
        "      drop_output = tf.keras.layers.Dropout(0.7)(embeddings)\n",
        "      output = tf.keras.layers.Dense(1024, activation='relu')(drop_output)\n",
        "      y = tf.keras.layers.Dense(3, activation='softmax', name='outputs')(output)\n",
        "\n",
        "      model = tf.keras.Model(inputs=[input_ids, mask], outputs=y)\n",
        "      #model.layers[2].trainable = False #for freezing bert layer\n",
        "      optimizer = tf.keras.optimizers.Adam(learning_rate=3e-5)\n",
        "      loss = tf.keras.losses.CategoricalCrossentropy()\n",
        "      acc = tf.keras.metrics.CategoricalAccuracy('accuracy')\n",
        "      model.compile(optimizer=optimizer, loss=loss, metrics=[acc])\n",
        "      print(model.summary())\n",
        "      return model\n",
        "\n",
        "    def train_and_evaluate_model(self, model):\n",
        "      train_dataset = self.get_dataset(self.train_df, self.train_column_name)\n",
        "      valid_dataset = self.get_dataset(self.valid_df, self.train_column_name)\n",
        "      xinput_ids_test, Xmask_test, labels_test = self.get_tokenized_ids(self.test_df, self.test_column_name)\n",
        "      history = model.fit(train_dataset, validation_data=valid_dataset, epochs=10)\n",
        "      score = model.evaluate([xinput_ids_test, Xmask_test], labels_test, verbose=0)\n",
        "      print(\"Loss on test data:\", score[0])\n",
        "      print(\"Accuracy on test data:\", score[1])\n",
        "      print(\"Classification Report:\")\n",
        "      predictions = np.argmax(model.predict([xinput_ids_test, Xmask_test]), axis=1)\n",
        "      print(classification_report(self.test_df['category'], predictions, target_names=['quran', 'bible', 'mizan']))\n",
        "      \n",
        "      for i, classification in enumerate([\"quran\", \"bible\", \"mizan\"]):\n",
        "        fpr, tpr, thresholds = metrics.roc_curve(np.array(self.test_df['category'].to_list()), np.array(predictions), pos_label=i)\n",
        "        auc_res = metrics.auc(fpr, tpr)\n",
        "        print(f\"AUC - {classification}: \", auc_res)\n",
        "\n",
        "      self.plot_results(history)\n",
        "      self.print_confusion_matrix(self.test_df['category'].to_list(), predictions)\n",
        "      return model, history, score, predictions\n",
        "\n",
        "    def plot_results(self, history):\n",
        "      plt.style.use('seaborn')\n",
        "      fig, (ax1, ax2) = plt.subplots(1, 2)\n",
        "      fig.set_figheight(4)\n",
        "      fig.set_figwidth(12)\n",
        "      \n",
        "      ax1.plot(history.history[\"accuracy\"], label = \"Train\")\n",
        "      ax1.plot(history.history[\"val_accuracy\"], label =\"Validation\")\n",
        "      ax1.set_ylabel(\"Accuracy\")\n",
        "      ax1.set_xlabel(\"Epoch\")\n",
        "      ax1.legend()\n",
        "\n",
        "      ax2.plot(history.history[\"loss\"], label = \"Train\")\n",
        "      ax2.plot(history.history[\"val_loss\"], Label = \"Validation\")\n",
        "      ax2.set_ylabel(\"Loss\")\n",
        "      ax2.set_xlabel(\"Epoch\")\n",
        "      ax2.legend()\n",
        "\n",
        "      fig.suptitle(f\"Results for {self.model_address} Model\", fontsize=\"x-large\", y=1.05)\n",
        "      plt.tight_layout()\n",
        "      plt.show()\n",
        "\n",
        "    def print_confusion_matrix(self, y_test, y_pred):\n",
        "      conf_mat = confusion_matrix(y_test, y_pred)\n",
        "      ax = plt.subplot()\n",
        "      sns.heatmap(conf_mat, annot = True, ax = ax, linewidths = 5, linecolor = 'y', center = 0)\n",
        "      ax.set_title(f\"Confusion Matrix for {self.model_address} Model\")\n",
        "      ax.set_xlabel('Predicted Labels') \n",
        "      ax.set_ylabel('True Labels')\n",
        "      ax.xaxis.set_ticklabels([\"quran\", 'bible', 'mizan'])\n",
        "      ax.yaxis.set_ticklabels([\"quran\", 'bible', 'mizan'])\n",
        "      plt.show()"
      ],
      "metadata": {
        "id": "dEB-bEEiI4_Z"
      },
      "execution_count": null,
      "outputs": []
    },
    {
      "cell_type": "markdown",
      "source": [
        "## **Part 1**"
      ],
      "metadata": {
        "id": "r5EIaw9TkiiW"
      }
    },
    {
      "cell_type": "code",
      "source": [
        "classifier_Bert = Classifier('bert-base-cased', 'source', 'source',  batch_size=32, seq_len=128)\n",
        "part1_model = classifier_Bert.create_model()\n",
        "part1_model, part1_history, part1_score, part1_predictions = classifier_Bert.train_and_evaluate_model(part1_model)"
      ],
      "metadata": {
        "colab": {
          "base_uri": "https://localhost:8080/",
          "height": 1000
        },
        "id": "koN2aVrEkmTU",
        "outputId": "66cdf983-1ca1-4718-b25f-aef2c50e7a2b"
      },
      "execution_count": null,
      "outputs": [
        {
          "metadata": {
            "tags": null
          },
          "name": "stderr",
          "output_type": "stream",
          "text": [
            "Some layers from the model checkpoint at bert-base-cased were not used when initializing TFBertModel: ['mlm___cls', 'nsp___cls']\n",
            "- This IS expected if you are initializing TFBertModel from the checkpoint of a model trained on another task or with another architecture (e.g. initializing a BertForSequenceClassification model from a BertForPreTraining model).\n",
            "- This IS NOT expected if you are initializing TFBertModel from the checkpoint of a model that you expect to be exactly identical (initializing a BertForSequenceClassification model from a BertForSequenceClassification model).\n",
            "All the layers of TFBertModel were initialized from the model checkpoint at bert-base-cased.\n",
            "If your task is similar to the task the model of the checkpoint was trained on, you can already use TFBertModel for predictions without further training.\n"
          ]
        },
        {
          "output_type": "stream",
          "name": "stdout",
          "text": [
            "Model: \"model_2\"\n",
            "__________________________________________________________________________________________________\n",
            " Layer (type)                   Output Shape         Param #     Connected to                     \n",
            "==================================================================================================\n",
            " input_ids (InputLayer)         [(None, 128)]        0           []                               \n",
            "                                                                                                  \n",
            " attention_mask (InputLayer)    [(None, 128)]        0           []                               \n",
            "                                                                                                  \n",
            " tf_bert_model_2 (TFBertModel)  TFBaseModelOutputWi  108310272   ['input_ids[0][0]',              \n",
            "                                thPoolingAndCrossAt               'attention_mask[0][0]']         \n",
            "                                tentions(last_hidde                                               \n",
            "                                n_state=(None, 128,                                               \n",
            "                                 768),                                                            \n",
            "                                 pooler_output=(Non                                               \n",
            "                                e, 768),                                                          \n",
            "                                 past_key_values=No                                               \n",
            "                                ne, hidden_states=N                                               \n",
            "                                one, attentions=Non                                               \n",
            "                                e, cross_attentions                                               \n",
            "                                =None)                                                            \n",
            "                                                                                                  \n",
            " dropout_113 (Dropout)          (None, 768)          0           ['tf_bert_model_2[0][1]']        \n",
            "                                                                                                  \n",
            " dense_2 (Dense)                (None, 1024)         787456      ['dropout_113[0][0]']            \n",
            "                                                                                                  \n",
            " outputs (Dense)                (None, 3)            3075        ['dense_2[0][0]']                \n",
            "                                                                                                  \n",
            "==================================================================================================\n",
            "Total params: 109,100,803\n",
            "Trainable params: 109,100,803\n",
            "Non-trainable params: 0\n",
            "__________________________________________________________________________________________________\n",
            "None\n",
            "Epoch 1/10\n",
            "393/393 [==============================] - 336s 834ms/step - loss: 0.2133 - accuracy: 0.9173 - val_loss: 0.0529 - val_accuracy: 0.9792\n",
            "Epoch 2/10\n",
            "393/393 [==============================] - 345s 877ms/step - loss: 0.0386 - accuracy: 0.9873 - val_loss: 0.0735 - val_accuracy: 0.9810\n",
            "Epoch 3/10\n",
            "393/393 [==============================] - 345s 877ms/step - loss: 0.0268 - accuracy: 0.9928 - val_loss: 0.0657 - val_accuracy: 0.9833\n",
            "Epoch 4/10\n",
            "393/393 [==============================] - 326s 830ms/step - loss: 0.0135 - accuracy: 0.9955 - val_loss: 0.0677 - val_accuracy: 0.9833\n",
            "Epoch 5/10\n",
            "393/393 [==============================] - 345s 878ms/step - loss: 0.0148 - accuracy: 0.9952 - val_loss: 0.1047 - val_accuracy: 0.9784\n",
            "Epoch 6/10\n",
            "393/393 [==============================] - 326s 830ms/step - loss: 0.0129 - accuracy: 0.9959 - val_loss: 0.0791 - val_accuracy: 0.9799\n",
            "Epoch 7/10\n",
            "393/393 [==============================] - 326s 830ms/step - loss: 0.0060 - accuracy: 0.9985 - val_loss: 0.1177 - val_accuracy: 0.9773\n",
            "Epoch 8/10\n",
            "393/393 [==============================] - 345s 878ms/step - loss: 0.0055 - accuracy: 0.9986 - val_loss: 0.0834 - val_accuracy: 0.9840\n",
            "Epoch 9/10\n",
            "393/393 [==============================] - 345s 879ms/step - loss: 0.0071 - accuracy: 0.9979 - val_loss: 0.0912 - val_accuracy: 0.9829\n",
            "Epoch 10/10\n",
            "393/393 [==============================] - 326s 830ms/step - loss: 0.0081 - accuracy: 0.9979 - val_loss: 0.1074 - val_accuracy: 0.9807\n",
            "Loss on test data: 0.08822345733642578\n",
            "Accuracy on test data: 0.9811111092567444\n",
            "Classification Report:\n",
            "              precision    recall  f1-score   support\n",
            "\n",
            "       quran       1.00      0.96      0.98       900\n",
            "       bible       0.98      0.99      0.98       900\n",
            "       mizan       0.97      0.99      0.98       900\n",
            "\n",
            "    accuracy                           0.98      2700\n",
            "   macro avg       0.98      0.98      0.98      2700\n",
            "weighted avg       0.98      0.98      0.98      2700\n",
            "\n",
            "AUC - quran:  0.022796296296296304\n",
            "AUC - bible:  0.4869996913580246\n",
            "AUC - mizan:  0.9902040123456791\n"
          ]
        },
        {
          "output_type": "display_data",
          "data": {
            "text/plain": [
              "<Figure size 864x288 with 2 Axes>"
            ],
            "image/png": "[encoded data removed]"
          },
          "metadata": {}
        },
        {
          "output_type": "display_data",
          "data": {
            "text/plain": [
              "<Figure size 576x396 with 2 Axes>"
            ],
            "image/png": "[encoded data removed]"
          },
          "metadata": {}
        }
      ]
    },
    {
      "cell_type": "markdown",
      "source": [
        "## **Part 2**"
      ],
      "metadata": {
        "id": "PIiHKkR3k0SP"
      }
    },
    {
      "cell_type": "code",
      "source": [
        "classifier_ParsBert = Classifier('HooshvareLab/bert-base-parsbert-uncased', 'targets', 'targets', batch_size=32, seq_len=128)\n",
        "part2_model = classifier_ParsBert.create_model()\n",
        "part2_model, part2_history, part2_score, part2_predictions = classifier_ParsBert.train_and_evaluate_model(part2_model)"
      ],
      "metadata": {
        "colab": {
          "base_uri": "https://localhost:8080/",
          "height": 1000,
          "referenced_widgets": [
            "11655b077b6e4cf6a1f0cecd31391e5f",
            "7ec307d81013432ca1a82d60cf0b2744",
            "5ec83a0fff6042b1b4a01bc7b9b6160e",
            "f31ce958085c434fa4137fe74723f1aa",
            "b4663571e1a84844840c3baf99fa2c2d",
            "0dbadb4ed51a4bd08221e243daea0a31",
            "ae565d9dcd0047fc96c81435373b99d6",
            "a6cb64f41f094947aaf40740fee0e961",
            "fc42f4af38b54fafb700cc290c2b4213",
            "b8562573beb74223b6828bc00d4635fd",
            "2430e48384844100807c0c109fd5c59c",
            "681d2d03399d4aa58907793a0bd54a7f",
            "c444c31f6f6c4570852dd0eb786f480f",
            "96d60c0aee4b48f3a0455c30c4b04c05",
            "1ea533c70a134eaea7b21c87b143ee53",
            "df49b392f02441c0ab98d90066f03371",
            "df7f9000389845e391553175349b5560",
            "4b94e4e2b78540e9ace32e54da2da06f",
            "9c0533b9ad8a458d951106837585e049",
            "d52834da658a478ca53efea4aa51ec02",
            "90baa2d9bf62434185ae486f8a00c899",
            "740237bef90b433b9c3f16e8242b5aad",
            "edc8bd5ceb1a4ab989d46b6461e77b4d",
            "d22217e10fde472cb356a837506ab1db",
            "7aa5f52ab8914e21a822308bfe5da3a0",
            "16e9646cb5594f649c13d6aa9f4efdc4",
            "6bda7d3a81a74ac1b5e489eb1aba98da",
            "2de57c6dccb047bdb5faaf8603eddaea",
            "4728b1e30eed4950bfb0360e89dc688b",
            "c1c085870d2440c8ba8f33f43b48358f",
            "fbe4e642e22f418aa80dbe87a18d435b",
            "c93a6a1ba60f4dc2b91ae3a71c9a614c",
            "8ecaeeb8655141068e07f02431e9ad6b"
          ]
        },
        "id": "7FhNCGy6I48v",
        "outputId": "74c0993f-09e8-45d4-c89e-f9403d0298ca"
      },
      "execution_count": null,
      "outputs": [
        {
          "data": {
            "application/vnd.jupyter.widget-view+json": {
              "model_id": "11655b077b6e4cf6a1f0cecd31391e5f",
              "version_major": 2,
              "version_minor": 0
            },
            "text/plain": [
              "Downloading:   0%|          | 0.00/434 [00:00<?, ?B/s]"
            ]
          },
          "metadata": {},
          "output_type": "display_data"
        },
        {
          "data": {
            "application/vnd.jupyter.widget-view+json": {
              "model_id": "681d2d03399d4aa58907793a0bd54a7f",
              "version_major": 2,
              "version_minor": 0
            },
            "text/plain": [
              "Downloading:   0%|          | 0.00/1.16M [00:00<?, ?B/s]"
            ]
          },
          "metadata": {},
          "output_type": "display_data"
        },
        {
          "data": {
            "application/vnd.jupyter.widget-view+json": {
              "model_id": "edc8bd5ceb1a4ab989d46b6461e77b4d",
              "version_major": 2,
              "version_minor": 0
            },
            "text/plain": [
              "Downloading:   0%|          | 0.00/919M [00:00<?, ?B/s]"
            ]
          },
          "metadata": {},
          "output_type": "display_data"
        },
        {
          "metadata": {
            "tags": null
          },
          "name": "stderr",
          "output_type": "stream",
          "text": [
            "Some layers from the model checkpoint at HooshvareLab/bert-base-parsbert-uncased were not used when initializing TFBertModel: ['nsp___cls', 'mlm___cls']\n",
            "- This IS expected if you are initializing TFBertModel from the checkpoint of a model trained on another task or with another architecture (e.g. initializing a BertForSequenceClassification model from a BertForPreTraining model).\n",
            "- This IS NOT expected if you are initializing TFBertModel from the checkpoint of a model that you expect to be exactly identical (initializing a BertForSequenceClassification model from a BertForSequenceClassification model).\n",
            "All the layers of TFBertModel were initialized from the model checkpoint at HooshvareLab/bert-base-parsbert-uncased.\n",
            "If your task is similar to the task the model of the checkpoint was trained on, you can already use TFBertModel for predictions without further training.\n"
          ]
        },
        {
          "output_type": "stream",
          "name": "stdout",
          "text": [
            "Model: \"model_3\"\n",
            "__________________________________________________________________________________________________\n",
            " Layer (type)                   Output Shape         Param #     Connected to                     \n",
            "==================================================================================================\n",
            " input_ids (InputLayer)         [(None, 128)]        0           []                               \n",
            "                                                                                                  \n",
            " attention_mask (InputLayer)    [(None, 128)]        0           []                               \n",
            "                                                                                                  \n",
            " tf_bert_model (TFBertModel)    TFBaseModelOutputWi  162841344   ['input_ids[0][0]',              \n",
            "                                thPoolingAndCrossAt               'attention_mask[0][0]']         \n",
            "                                tentions(last_hidde                                               \n",
            "                                n_state=(None, 128,                                               \n",
            "                                 768),                                                            \n",
            "                                 pooler_output=(Non                                               \n",
            "                                e, 768),                                                          \n",
            "                                 past_key_values=No                                               \n",
            "                                ne, hidden_states=N                                               \n",
            "                                one, attentions=Non                                               \n",
            "                                e, cross_attentions                                               \n",
            "                                =None)                                                            \n",
            "                                                                                                  \n",
            " dropout_151 (Dropout)          (None, 768)          0           ['tf_bert_model[0][1]']          \n",
            "                                                                                                  \n",
            " dense_3 (Dense)                (None, 1024)         787456      ['dropout_151[0][0]']            \n",
            "                                                                                                  \n",
            " outputs (Dense)                (None, 3)            3075        ['dense_3[0][0]']                \n",
            "                                                                                                  \n",
            "==================================================================================================\n",
            "Total params: 163,631,875\n",
            "Trainable params: 163,631,875\n",
            "Non-trainable params: 0\n",
            "__________________________________________________________________________________________________\n",
            "None\n",
            "Epoch 1/10\n",
            "393/393 [==============================] - 367s 912ms/step - loss: 0.2226 - accuracy: 0.9152 - val_loss: 0.1064 - val_accuracy: 0.9643\n",
            "Epoch 2/10\n",
            "393/393 [==============================] - 356s 907ms/step - loss: 0.0568 - accuracy: 0.9816 - val_loss: 0.0824 - val_accuracy: 0.9710\n",
            "Epoch 3/10\n",
            "393/393 [==============================] - 356s 907ms/step - loss: 0.0191 - accuracy: 0.9940 - val_loss: 0.1161 - val_accuracy: 0.9695\n",
            "Epoch 4/10\n",
            "393/393 [==============================] - 356s 907ms/step - loss: 0.0122 - accuracy: 0.9964 - val_loss: 0.1768 - val_accuracy: 0.9583\n",
            "Epoch 5/10\n",
            "393/393 [==============================] - 338s 859ms/step - loss: 0.0138 - accuracy: 0.9964 - val_loss: 0.1139 - val_accuracy: 0.9728\n",
            "Epoch 6/10\n",
            "393/393 [==============================] - 337s 859ms/step - loss: 0.0118 - accuracy: 0.9963 - val_loss: 0.1656 - val_accuracy: 0.9624\n",
            "Epoch 7/10\n",
            "393/393 [==============================] - 338s 859ms/step - loss: 0.0157 - accuracy: 0.9949 - val_loss: 0.1980 - val_accuracy: 0.9550\n",
            "Epoch 8/10\n",
            "393/393 [==============================] - 338s 859ms/step - loss: 0.0078 - accuracy: 0.9977 - val_loss: 0.1788 - val_accuracy: 0.9688\n",
            "Epoch 9/10\n",
            "393/393 [==============================] - 338s 859ms/step - loss: 0.0127 - accuracy: 0.9967 - val_loss: 0.1928 - val_accuracy: 0.9594\n",
            "Epoch 10/10\n",
            "393/393 [==============================] - 356s 907ms/step - loss: 0.0101 - accuracy: 0.9975 - val_loss: 0.1514 - val_accuracy: 0.9706\n",
            "Loss on test data: 0.1609022617340088\n",
            "Accuracy on test data: 0.9681481719017029\n",
            "Classification Report:\n",
            "              precision    recall  f1-score   support\n",
            "\n",
            "       quran       0.96      0.98      0.97       900\n",
            "       bible       0.98      0.96      0.97       900\n",
            "       mizan       0.96      0.97      0.96       900\n",
            "\n",
            "    accuracy                           0.97      2700\n",
            "   macro avg       0.97      0.97      0.97      2700\n",
            "weighted avg       0.97      0.97      0.97      2700\n",
            "\n",
            "AUC - quran:  0.024576234567901225\n",
            "AUC - bible:  0.5027672839506172\n",
            "AUC - mizan:  0.9726564814814815\n"
          ]
        },
        {
          "output_type": "display_data",
          "data": {
            "text/plain": [
              "<Figure size 864x288 with 2 Axes>"
            ],
            "image/png": "[encoded data removed]"
          },
          "metadata": {}
        },
        {
          "output_type": "display_data",
          "data": {
            "text/plain": [
              "<Figure size 576x396 with 2 Axes>"
            ],
            "image/png": "[encoded data removed]"
          },
          "metadata": {}
        }
      ]
    },
    {
      "cell_type": "markdown",
      "source": [
        "# **Part 3**"
      ],
      "metadata": {
        "id": "VlZ3WRmDYabM"
      }
    },
    {
      "cell_type": "code",
      "source": [
        "classifier_XLMR = classifier('xlm-roberta-base', '', '', batch_size=32, seq_len=128)\n",
        "part3_model = classifier_XLMR.create_model()\n",
        "part3_model, part3_history, part3_score, part3_predictions = classifier_XLMR.train_and_evaluate_model(part3_model)"
      ],
      "metadata": {
        "colab": {
          "base_uri": "https://localhost:8080/",
          "height": 1000
        },
        "id": "ttArpw6wrM6J",
        "outputId": "80886b35-5f88-47ed-d563-943891d77f2e"
      },
      "execution_count": null,
      "outputs": [
        {
          "metadata": {
            "tags": null
          },
          "name": "stderr",
          "output_type": "stream",
          "text": [
            "Some weights of the PyTorch model were not used when initializing the TF 2.0 model TFXLMRobertaModel: ['lm_head.dense.bias', 'lm_head.bias', 'lm_head.decoder.weight', 'lm_head.layer_norm.weight', 'lm_head.layer_norm.bias', 'lm_head.dense.weight']\n",
            "- This IS expected if you are initializing TFXLMRobertaModel from a PyTorch model trained on another task or with another architecture (e.g. initializing a TFBertForSequenceClassification model from a BertForPreTraining model).\n",
            "- This IS NOT expected if you are initializing TFXLMRobertaModel from a PyTorch model that you expect to be exactly identical (e.g. initializing a TFBertForSequenceClassification model from a BertForSequenceClassification model).\n",
            "All the weights of TFXLMRobertaModel were initialized from the PyTorch model.\n",
            "If your task is similar to the task the model of the checkpoint was trained on, you can already use TFXLMRobertaModel for predictions without further training.\n"
          ]
        },
        {
          "output_type": "stream",
          "name": "stdout",
          "text": [
            "Model: \"model_2\"\n",
            "__________________________________________________________________________________________________\n",
            " Layer (type)                   Output Shape         Param #     Connected to                     \n",
            "==================================================================================================\n",
            " input_ids (InputLayer)         [(None, 128)]        0           []                               \n",
            "                                                                                                  \n",
            " attention_mask (InputLayer)    [(None, 128)]        0           []                               \n",
            "                                                                                                  \n",
            " tfxlm_roberta_model_2 (TFXLMRo  TFBaseModelOutputWi  278043648  ['input_ids[0][0]',              \n",
            " bertaModel)                    thPoolingAndCrossAt               'attention_mask[0][0]']         \n",
            "                                tentions(last_hidde                                               \n",
            "                                n_state=(None, 128,                                               \n",
            "                                 768),                                                            \n",
            "                                 pooler_output=(Non                                               \n",
            "                                e, 768),                                                          \n",
            "                                 past_key_values=No                                               \n",
            "                                ne, hidden_states=N                                               \n",
            "                                one, attentions=Non                                               \n",
            "                                e, cross_attentions                                               \n",
            "                                =None)                                                            \n",
            "                                                                                                  \n",
            " dropout_113 (Dropout)          (None, 768)          0           ['tfxlm_roberta_model_2[0][1]']  \n",
            "                                                                                                  \n",
            " dense_2 (Dense)                (None, 1024)         787456      ['dropout_113[0][0]']            \n",
            "                                                                                                  \n",
            " outputs (Dense)                (None, 3)            3075        ['dense_2[0][0]']                \n",
            "                                                                                                  \n",
            "==================================================================================================\n",
            "Total params: 278,834,179\n",
            "Trainable params: 278,834,179\n",
            "Non-trainable params: 0\n",
            "__________________________________________________________________________________________________\n",
            "None\n",
            "Epoch 1/10\n",
            "393/393 [==============================] - 373s 926ms/step - loss: 0.2862 - accuracy: 0.8876 - val_loss: 0.0644 - val_accuracy: 0.9829\n",
            "Epoch 2/10\n",
            "393/393 [==============================] - 363s 923ms/step - loss: 0.0510 - accuracy: 0.9862 - val_loss: 0.0352 - val_accuracy: 0.9885\n",
            "Epoch 3/10\n",
            "393/393 [==============================] - 362s 922ms/step - loss: 0.0256 - accuracy: 0.9926 - val_loss: 0.0636 - val_accuracy: 0.9851\n",
            "Epoch 4/10\n",
            "393/393 [==============================] - 362s 922ms/step - loss: 0.0211 - accuracy: 0.9940 - val_loss: 0.0581 - val_accuracy: 0.9881\n",
            "Epoch 5/10\n",
            "393/393 [==============================] - 363s 923ms/step - loss: 0.0183 - accuracy: 0.9950 - val_loss: 0.0342 - val_accuracy: 0.9900\n",
            "Epoch 6/10\n",
            "393/393 [==============================] - 382s 972ms/step - loss: 0.0141 - accuracy: 0.9955 - val_loss: 0.0488 - val_accuracy: 0.9881\n",
            "Epoch 7/10\n",
            "393/393 [==============================] - 382s 972ms/step - loss: 0.0258 - accuracy: 0.9928 - val_loss: 0.0288 - val_accuracy: 0.9907\n",
            "Epoch 8/10\n",
            "393/393 [==============================] - 382s 972ms/step - loss: 0.0142 - accuracy: 0.9957 - val_loss: 0.0273 - val_accuracy: 0.9940\n",
            "Epoch 9/10\n",
            "393/393 [==============================] - 382s 973ms/step - loss: 0.0108 - accuracy: 0.9966 - val_loss: 0.0429 - val_accuracy: 0.9892\n",
            "Epoch 10/10\n",
            "393/393 [==============================] - 363s 923ms/step - loss: 0.0117 - accuracy: 0.9968 - val_loss: 0.0404 - val_accuracy: 0.9914\n",
            "Loss on test data: 0.06163453310728073\n",
            "Accuracy on test data: 0.9911110997200012\n",
            "Classification Report:\n",
            "              precision    recall  f1-score   support\n",
            "\n",
            "       quran       1.00      0.98      0.99       900\n",
            "       bible       0.99      1.00      1.00       900\n",
            "       mizan       0.98      1.00      0.99       900\n",
            "\n",
            "    accuracy                           0.99      2700\n",
            "   macro avg       0.99      0.99      0.99      2700\n",
            "weighted avg       0.99      0.99      0.99      2700\n",
            "\n",
            "AUC - quran:  0.013879629629629606\n",
            "AUC - bible:  0.491408024691358\n",
            "AUC - mizan:  0.9947123456790123\n"
          ]
        },
        {
          "output_type": "display_data",
          "data": {
            "text/plain": [
              "<Figure size 864x288 with 2 Axes>"
            ],
            "image/png": "[encoded data removed]"
          },
          "metadata": {}
        },
        {
          "output_type": "display_data",
          "data": {
            "text/plain": [
              "<Figure size 576x396 with 2 Axes>"
            ],
            "image/png": "[encoded data removed]"
          },
          "metadata": {}
        }
      ]
    },
    {
      "cell_type": "code",
      "source": [
        ""
      ],
      "metadata": {
        "id": "15_xLj3SI4lL"
      },
      "execution_count": null,
      "outputs": []
    }
  ]
}